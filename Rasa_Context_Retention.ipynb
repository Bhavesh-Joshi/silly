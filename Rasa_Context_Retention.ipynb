{
  "nbformat": 4,
  "nbformat_minor": 0,
  "metadata": {
    "colab": {
      "name": "Rasa_Context_Retention.ipynb",
      "provenance": [],
      "collapsed_sections": []
    },
    "kernelspec": {
      "name": "python3",
      "display_name": "Python 3"
    },
    "language_info": {
      "name": "python"
    }
  },
  "cells": [
    {
      "cell_type": "code",
      "metadata": {
        "colab": {
          "base_uri": "https://localhost:8080/"
        },
        "id": "hIbwqXTQrGlt",
        "outputId": "41e36372-037e-44a4-e69c-a22f698bfb4c"
      },
      "source": [
        "!pip install rasa\n",
        "!wget https://github.com/RasaHQ/rasa/archive/refs/heads/main.zip"
      ],
      "execution_count": null,
      "outputs": [
        {
          "output_type": "stream",
          "text": [
            "Requirement already satisfied: rasa in /usr/local/lib/python3.7/dist-packages (2.6.0)\n",
            "Requirement already satisfied: scikit-learn<0.25,>=0.22 in /usr/local/lib/python3.7/dist-packages (from rasa) (0.22.2.post1)\n",
            "Requirement already satisfied: rocketchat_API<1.16.0,>=0.6.31 in /usr/local/lib/python3.7/dist-packages (from rasa) (1.15.0)\n",
            "Requirement already satisfied: cloudpickle<1.7,>=1.2 in /usr/local/lib/python3.7/dist-packages (from rasa) (1.3.0)\n",
            "Requirement already satisfied: jsonschema<3.3,>=3.2 in /usr/local/lib/python3.7/dist-packages (from rasa) (3.2.0)\n",
            "Requirement already satisfied: mattermostwrapper<2.3,>=2.2 in /usr/local/lib/python3.7/dist-packages (from rasa) (2.2)\n",
            "Requirement already satisfied: rasa-sdk<3.0.0,>=2.6.0 in /usr/local/lib/python3.7/dist-packages (from rasa) (2.6.0)\n",
            "Requirement already satisfied: colorhash<1.1.0,>=1.0.2 in /usr/local/lib/python3.7/dist-packages (from rasa) (1.0.3)\n",
            "Requirement already satisfied: pymongo[srv,tls]<3.11,>=3.8 in /usr/local/lib/python3.7/dist-packages (from rasa) (3.10.1)\n",
            "Requirement already satisfied: colorclass<2.3,>=2.2 in /usr/local/lib/python3.7/dist-packages (from rasa) (2.2.0)\n",
            "Requirement already satisfied: pykwalify<1.9,>=1.7 in /usr/local/lib/python3.7/dist-packages (from rasa) (1.8.0)\n",
            "Requirement already satisfied: jsonpickle<2.1,>=1.3 in /usr/local/lib/python3.7/dist-packages (from rasa) (2.0.0)\n",
            "Requirement already satisfied: scipy<2.0.0,>=1.4.1 in /usr/local/lib/python3.7/dist-packages (from rasa) (1.4.1)\n",
            "Requirement already satisfied: tensorflow<2.4,>=2.3 in /usr/local/lib/python3.7/dist-packages (from rasa) (2.3.2)\n",
            "Requirement already satisfied: async_generator<1.11,>=1.10 in /usr/local/lib/python3.7/dist-packages (from rasa) (1.10)\n",
            "Requirement already satisfied: webexteamssdk<1.7.0,>=1.1.1 in /usr/local/lib/python3.7/dist-packages (from rasa) (1.6)\n",
            "Requirement already satisfied: SQLAlchemy<1.4.0,>=1.3.3 in /usr/local/lib/python3.7/dist-packages (from rasa) (1.3.24)\n",
            "Requirement already satisfied: sanic-cors<0.11.0,>=0.10.0b1 in /usr/local/lib/python3.7/dist-packages (from rasa) (0.10.0.post3)\n",
            "Requirement already satisfied: joblib<0.16.0,>=0.15.1 in /usr/local/lib/python3.7/dist-packages (from rasa) (0.15.1)\n",
            "Requirement already satisfied: boto3<2.0,>=1.12 in /usr/local/lib/python3.7/dist-packages (from rasa) (1.17.68)\n",
            "Requirement already satisfied: networkx<2.6,>=2.4 in /usr/local/lib/python3.7/dist-packages (from rasa) (2.5.1)\n",
            "Requirement already satisfied: aiohttp!=3.7.4.post0,<3.8,>=3.6 in /usr/local/lib/python3.7/dist-packages (from rasa) (3.7.4)\n",
            "Requirement already satisfied: ruamel.yaml<0.17.0,>=0.16.5 in /usr/local/lib/python3.7/dist-packages (from rasa) (0.16.13)\n",
            "Requirement already satisfied: twilio<6.51,>=6.26 in /usr/local/lib/python3.7/dist-packages (from rasa) (6.50.1)\n",
            "Requirement already satisfied: tensorflow-text<2.4,>=2.3; sys_platform != \"win32\" in /usr/local/lib/python3.7/dist-packages (from rasa) (2.3.0)\n",
            "Requirement already satisfied: attrs<20.4,>=19.3 in /usr/local/lib/python3.7/dist-packages (from rasa) (20.3.0)\n",
            "Requirement already satisfied: sentry-sdk<0.20.0,>=0.17.0 in /usr/local/lib/python3.7/dist-packages (from rasa) (0.19.5)\n",
            "Requirement already satisfied: tensorflow-addons<=0.12,>=0.10 in /usr/local/lib/python3.7/dist-packages (from rasa) (0.12.0)\n",
            "Requirement already satisfied: multidict<5.0,>=4.6 in /usr/local/lib/python3.7/dist-packages (from rasa) (4.7.6)\n",
            "Requirement already satisfied: regex<2020.10,>=2020.6 in /usr/local/lib/python3.7/dist-packages (from rasa) (2020.9.27)\n",
            "Requirement already satisfied: setuptools>=41.0.0 in /usr/local/lib/python3.7/dist-packages (from rasa) (56.0.0)\n",
            "Requirement already satisfied: coloredlogs<16,>=10 in /usr/local/lib/python3.7/dist-packages (from rasa) (15.0)\n",
            "Requirement already satisfied: terminaltables<3.2.0,>=3.1.0 in /usr/local/lib/python3.7/dist-packages (from rasa) (3.1.0)\n",
            "Requirement already satisfied: python-socketio<6,>=4.4 in /usr/local/lib/python3.7/dist-packages (from rasa) (5.2.1)\n",
            "Requirement already satisfied: aio-pika<7.0.0,>=6.7.1 in /usr/local/lib/python3.7/dist-packages (from rasa) (6.8.0)\n",
            "Requirement already satisfied: matplotlib<3.4,>=3.1 in /usr/local/lib/python3.7/dist-packages (from rasa) (3.2.2)\n",
            "Requirement already satisfied: packaging<21.0,>=20.0 in /usr/local/lib/python3.7/dist-packages (from rasa) (20.9)\n",
            "Requirement already satisfied: slackclient<3.0.0,>=2.0.0 in /usr/local/lib/python3.7/dist-packages (from rasa) (2.9.3)\n",
            "Requirement already satisfied: tqdm<4.60,>=4.31 in /usr/local/lib/python3.7/dist-packages (from rasa) (4.41.1)\n",
            "Requirement already satisfied: kafka-python<3.0,>=1.4 in /usr/local/lib/python3.7/dist-packages (from rasa) (2.0.2)\n",
            "Requirement already satisfied: ujson<5.0,>=1.35 in /usr/local/lib/python3.7/dist-packages (from rasa) (4.0.2)\n",
            "Requirement already satisfied: PyJWT[crypto]<3.0.0,>=2.0.0 in /usr/local/lib/python3.7/dist-packages (from rasa) (2.1.0)\n",
            "Requirement already satisfied: pydot<1.5,>=1.4 in /usr/local/lib/python3.7/dist-packages (from rasa) (1.4.2)\n",
            "Requirement already satisfied: oauth2client==4.1.3 in /usr/local/lib/python3.7/dist-packages (from rasa) (4.1.3)\n",
            "Requirement already satisfied: apscheduler<3.8,>=3.6 in /usr/local/lib/python3.7/dist-packages (from rasa) (3.7.0)\n",
            "Requirement already satisfied: questionary<1.10.0,>=1.5.1 in /usr/local/lib/python3.7/dist-packages (from rasa) (1.9.0)\n",
            "Requirement already satisfied: sanic<21.0.0,>=19.12.2 in /usr/local/lib/python3.7/dist-packages (from rasa) (20.12.3)\n",
            "Requirement already satisfied: redis<4.0,>=3.4 in /usr/local/lib/python3.7/dist-packages (from rasa) (3.5.3)\n",
            "Requirement already satisfied: sanic-jwt<2.0,>=1.3.2 in /usr/local/lib/python3.7/dist-packages (from rasa) (1.6.0)\n",
            "Requirement already satisfied: python-dateutil<2.9,>=2.8 in /usr/local/lib/python3.7/dist-packages (from rasa) (2.8.1)\n",
            "Requirement already satisfied: absl-py<0.13,>=0.9 in /usr/local/lib/python3.7/dist-packages (from rasa) (0.12.0)\n",
            "Requirement already satisfied: psycopg2-binary<2.9.0,>=2.8.2 in /usr/local/lib/python3.7/dist-packages (from rasa) (2.8.6)\n",
            "Requirement already satisfied: prompt-toolkit<3.0,>=2.0 in /usr/local/lib/python3.7/dist-packages (from rasa) (2.0.10)\n",
            "Requirement already satisfied: tensorflow_hub<0.11,>=0.10 in /usr/local/lib/python3.7/dist-packages (from rasa) (0.10.0)\n",
            "Requirement already satisfied: pytz<2022.0,>=2019.1 in /usr/local/lib/python3.7/dist-packages (from rasa) (2021.1)\n",
            "Requirement already satisfied: tensorflow-estimator<2.4,>=2.3 in /usr/local/lib/python3.7/dist-packages (from rasa) (2.3.0)\n",
            "Requirement already satisfied: pyTelegramBotAPI<4.0.0,>=3.7.3 in /usr/local/lib/python3.7/dist-packages (from rasa) (3.7.7)\n",
            "Requirement already satisfied: python-engineio!=5.0.0,<6,>=4 in /usr/local/lib/python3.7/dist-packages (from rasa) (4.1.0)\n",
            "Requirement already satisfied: fbmessenger<6.1.0,>=6.0.0 in /usr/local/lib/python3.7/dist-packages (from rasa) (6.0.0)\n",
            "Requirement already satisfied: tensorflow-probability<0.12,>=0.11 in /usr/local/lib/python3.7/dist-packages (from rasa) (0.11.1)\n",
            "Requirement already satisfied: sklearn-crfsuite<0.4,>=0.3 in /usr/local/lib/python3.7/dist-packages (from rasa) (0.3.6)\n",
            "Requirement already satisfied: numpy<1.19,>=1.16 in /usr/local/lib/python3.7/dist-packages (from rasa) (1.18.5)\n",
            "Requirement already satisfied: requests<3.0,>=2.23 in /usr/local/lib/python3.7/dist-packages (from rasa) (2.23.0)\n",
            "Requirement already satisfied: importlib-metadata; python_version < \"3.8\" in /usr/local/lib/python3.7/dist-packages (from jsonschema<3.3,>=3.2->rasa) (3.10.1)\n",
            "Requirement already satisfied: pyrsistent>=0.14.0 in /usr/local/lib/python3.7/dist-packages (from jsonschema<3.3,>=3.2->rasa) (0.17.3)\n",
            "Requirement already satisfied: six>=1.11.0 in /usr/local/lib/python3.7/dist-packages (from jsonschema<3.3,>=3.2->rasa) (1.15.0)\n",
            "Requirement already satisfied: typing-extensions<4.0.0,>=3.7.4 in /usr/local/lib/python3.7/dist-packages (from rasa-sdk<3.0.0,>=2.6.0->rasa) (3.7.4.3)\n",
            "Requirement already satisfied: uvloop<0.15.0; sys_platform != \"win32\" in /usr/local/lib/python3.7/dist-packages (from rasa-sdk<3.0.0,>=2.6.0->rasa) (0.14.0)\n",
            "Requirement already satisfied: dnspython<2.0.0,>=1.16.0; extra == \"srv\" in /usr/local/lib/python3.7/dist-packages (from pymongo[srv,tls]<3.11,>=3.8->rasa) (1.16.0)\n",
            "Requirement already satisfied: docopt>=0.6.2 in /usr/local/lib/python3.7/dist-packages (from pykwalify<1.9,>=1.7->rasa) (0.6.2)\n",
            "Requirement already satisfied: grpcio>=1.8.6 in /usr/local/lib/python3.7/dist-packages (from tensorflow<2.4,>=2.3->rasa) (1.32.0)\n",
            "Requirement already satisfied: astunparse==1.6.3 in /usr/local/lib/python3.7/dist-packages (from tensorflow<2.4,>=2.3->rasa) (1.6.3)\n",
            "Requirement already satisfied: google-pasta>=0.1.8 in /usr/local/lib/python3.7/dist-packages (from tensorflow<2.4,>=2.3->rasa) (0.2.0)\n",
            "Requirement already satisfied: keras-preprocessing<1.2,>=1.1.1 in /usr/local/lib/python3.7/dist-packages (from tensorflow<2.4,>=2.3->rasa) (1.1.2)\n",
            "Requirement already satisfied: protobuf>=3.9.2 in /usr/local/lib/python3.7/dist-packages (from tensorflow<2.4,>=2.3->rasa) (3.12.4)\n",
            "Requirement already satisfied: opt-einsum>=2.3.2 in /usr/local/lib/python3.7/dist-packages (from tensorflow<2.4,>=2.3->rasa) (3.3.0)\n",
            "Requirement already satisfied: wrapt>=1.11.1 in /usr/local/lib/python3.7/dist-packages (from tensorflow<2.4,>=2.3->rasa) (1.12.1)\n",
            "Requirement already satisfied: termcolor>=1.1.0 in /usr/local/lib/python3.7/dist-packages (from tensorflow<2.4,>=2.3->rasa) (1.1.0)\n",
            "Requirement already satisfied: wheel>=0.26 in /usr/local/lib/python3.7/dist-packages (from tensorflow<2.4,>=2.3->rasa) (0.36.2)\n",
            "Requirement already satisfied: h5py<2.11.0,>=2.10.0 in /usr/local/lib/python3.7/dist-packages (from tensorflow<2.4,>=2.3->rasa) (2.10.0)\n",
            "Requirement already satisfied: gast==0.3.3 in /usr/local/lib/python3.7/dist-packages (from tensorflow<2.4,>=2.3->rasa) (0.3.3)\n",
            "Requirement already satisfied: tensorboard<3,>=2.3.0 in /usr/local/lib/python3.7/dist-packages (from tensorflow<2.4,>=2.3->rasa) (2.4.1)\n",
            "Requirement already satisfied: future in /usr/local/lib/python3.7/dist-packages (from webexteamssdk<1.7.0,>=1.1.1->rasa) (0.16.0)\n",
            "Requirement already satisfied: requests-toolbelt in /usr/local/lib/python3.7/dist-packages (from webexteamssdk<1.7.0,>=1.1.1->rasa) (0.9.1)\n",
            "Requirement already satisfied: sanic-plugins-framework>=0.9.0 in /usr/local/lib/python3.7/dist-packages (from sanic-cors<0.11.0,>=0.10.0b1->rasa) (0.9.5)\n",
            "Requirement already satisfied: botocore<1.21.0,>=1.20.68 in /usr/local/lib/python3.7/dist-packages (from boto3<2.0,>=1.12->rasa) (1.20.68)\n",
            "Requirement already satisfied: s3transfer<0.5.0,>=0.4.0 in /usr/local/lib/python3.7/dist-packages (from boto3<2.0,>=1.12->rasa) (0.4.2)\n",
            "Requirement already satisfied: jmespath<1.0.0,>=0.7.1 in /usr/local/lib/python3.7/dist-packages (from boto3<2.0,>=1.12->rasa) (0.10.0)\n",
            "Requirement already satisfied: decorator<5,>=4.3 in /usr/local/lib/python3.7/dist-packages (from networkx<2.6,>=2.4->rasa) (4.4.2)\n",
            "Requirement already satisfied: yarl<2.0,>=1.0 in /usr/local/lib/python3.7/dist-packages (from aiohttp!=3.7.4.post0,<3.8,>=3.6->rasa) (1.6.3)\n",
            "Requirement already satisfied: chardet<4.0,>=2.0 in /usr/local/lib/python3.7/dist-packages (from aiohttp!=3.7.4.post0,<3.8,>=3.6->rasa) (3.0.4)\n",
            "Requirement already satisfied: async-timeout<4.0,>=3.0 in /usr/local/lib/python3.7/dist-packages (from aiohttp!=3.7.4.post0,<3.8,>=3.6->rasa) (3.0.1)\n",
            "Requirement already satisfied: ruamel.yaml.clib>=0.1.2; platform_python_implementation == \"CPython\" and python_version < \"3.10\" in /usr/local/lib/python3.7/dist-packages (from ruamel.yaml<0.17.0,>=0.16.5->rasa) (0.2.2)\n",
            "Requirement already satisfied: certifi in /usr/local/lib/python3.7/dist-packages (from sentry-sdk<0.20.0,>=0.17.0->rasa) (2020.12.5)\n",
            "Requirement already satisfied: urllib3>=1.10.0 in /usr/local/lib/python3.7/dist-packages (from sentry-sdk<0.20.0,>=0.17.0->rasa) (1.24.3)\n",
            "Requirement already satisfied: typeguard>=2.7 in /usr/local/lib/python3.7/dist-packages (from tensorflow-addons<=0.12,>=0.10->rasa) (2.7.1)\n",
            "Requirement already satisfied: humanfriendly>=9.1 in /usr/local/lib/python3.7/dist-packages (from coloredlogs<16,>=10->rasa) (9.1)\n",
            "Requirement already satisfied: bidict>=0.21.0 in /usr/local/lib/python3.7/dist-packages (from python-socketio<6,>=4.4->rasa) (0.21.2)\n",
            "Requirement already satisfied: aiormq<4,>=3.2.3 in /usr/local/lib/python3.7/dist-packages (from aio-pika<7.0.0,>=6.7.1->rasa) (3.3.1)\n",
            "Requirement already satisfied: kiwisolver>=1.0.1 in /usr/local/lib/python3.7/dist-packages (from matplotlib<3.4,>=3.1->rasa) (1.3.1)\n",
            "Requirement already satisfied: cycler>=0.10 in /usr/local/lib/python3.7/dist-packages (from matplotlib<3.4,>=3.1->rasa) (0.10.0)\n",
            "Requirement already satisfied: pyparsing!=2.0.4,!=2.1.2,!=2.1.6,>=2.0.1 in /usr/local/lib/python3.7/dist-packages (from matplotlib<3.4,>=3.1->rasa) (2.4.7)\n",
            "Requirement already satisfied: cryptography<4.0.0,>=3.3.1; extra == \"crypto\" in /usr/local/lib/python3.7/dist-packages (from PyJWT[crypto]<3.0.0,>=2.0.0->rasa) (3.4.7)\n",
            "Requirement already satisfied: httplib2>=0.9.1 in /usr/local/lib/python3.7/dist-packages (from oauth2client==4.1.3->rasa) (0.17.4)\n",
            "Requirement already satisfied: pyasn1>=0.1.7 in /usr/local/lib/python3.7/dist-packages (from oauth2client==4.1.3->rasa) (0.4.8)\n",
            "Requirement already satisfied: pyasn1-modules>=0.0.5 in /usr/local/lib/python3.7/dist-packages (from oauth2client==4.1.3->rasa) (0.2.8)\n",
            "Requirement already satisfied: rsa>=3.1.4 in /usr/local/lib/python3.7/dist-packages (from oauth2client==4.1.3->rasa) (4.7.2)\n",
            "Requirement already satisfied: tzlocal~=2.0 in /usr/local/lib/python3.7/dist-packages (from apscheduler<3.8,>=3.6->rasa) (2.1)\n",
            "Requirement already satisfied: httpx==0.15.4 in /usr/local/lib/python3.7/dist-packages (from sanic<21.0.0,>=19.12.2->rasa) (0.15.4)\n",
            "Requirement already satisfied: websockets<9.0,>=8.1 in /usr/local/lib/python3.7/dist-packages (from sanic<21.0.0,>=19.12.2->rasa) (8.1)\n",
            "Requirement already satisfied: httptools>=0.0.10 in /usr/local/lib/python3.7/dist-packages (from sanic<21.0.0,>=19.12.2->rasa) (0.2.0)\n",
            "Requirement already satisfied: aiofiles>=0.6.0 in /usr/local/lib/python3.7/dist-packages (from sanic<21.0.0,>=19.12.2->rasa) (0.6.0)\n",
            "Requirement already satisfied: wcwidth in /usr/local/lib/python3.7/dist-packages (from prompt-toolkit<3.0,>=2.0->rasa) (0.2.5)\n",
            "Requirement already satisfied: dm-tree in /usr/local/lib/python3.7/dist-packages (from tensorflow-probability<0.12,>=0.11->rasa) (0.1.6)\n",
            "Requirement already satisfied: tabulate in /usr/local/lib/python3.7/dist-packages (from sklearn-crfsuite<0.4,>=0.3->rasa) (0.8.9)\n",
            "Requirement already satisfied: python-crfsuite>=0.8.3 in /usr/local/lib/python3.7/dist-packages (from sklearn-crfsuite<0.4,>=0.3->rasa) (0.9.7)\n",
            "Requirement already satisfied: idna<3,>=2.5 in /usr/local/lib/python3.7/dist-packages (from requests<3.0,>=2.23->rasa) (2.10)\n",
            "Requirement already satisfied: zipp>=0.5 in /usr/local/lib/python3.7/dist-packages (from importlib-metadata; python_version < \"3.8\"->jsonschema<3.3,>=3.2->rasa) (3.4.1)\n",
            "Requirement already satisfied: tensorboard-plugin-wit>=1.6.0 in /usr/local/lib/python3.7/dist-packages (from tensorboard<3,>=2.3.0->tensorflow<2.4,>=2.3->rasa) (1.8.0)\n",
            "Requirement already satisfied: google-auth-oauthlib<0.5,>=0.4.1 in /usr/local/lib/python3.7/dist-packages (from tensorboard<3,>=2.3.0->tensorflow<2.4,>=2.3->rasa) (0.4.4)\n",
            "Requirement already satisfied: google-auth<2,>=1.6.3 in /usr/local/lib/python3.7/dist-packages (from tensorboard<3,>=2.3.0->tensorflow<2.4,>=2.3->rasa) (1.28.1)\n",
            "Requirement already satisfied: werkzeug>=0.11.15 in /usr/local/lib/python3.7/dist-packages (from tensorboard<3,>=2.3.0->tensorflow<2.4,>=2.3->rasa) (1.0.1)\n",
            "Requirement already satisfied: markdown>=2.6.8 in /usr/local/lib/python3.7/dist-packages (from tensorboard<3,>=2.3.0->tensorflow<2.4,>=2.3->rasa) (3.3.4)\n",
            "Requirement already satisfied: pamqp==2.3.0 in /usr/local/lib/python3.7/dist-packages (from aiormq<4,>=3.2.3->aio-pika<7.0.0,>=6.7.1->rasa) (2.3.0)\n",
            "Requirement already satisfied: cffi>=1.12 in /usr/local/lib/python3.7/dist-packages (from cryptography<4.0.0,>=3.3.1; extra == \"crypto\"->PyJWT[crypto]<3.0.0,>=2.0.0->rasa) (1.14.5)\n",
            "Requirement already satisfied: sniffio in /usr/local/lib/python3.7/dist-packages (from httpx==0.15.4->sanic<21.0.0,>=19.12.2->rasa) (1.2.0)\n",
            "Requirement already satisfied: httpcore==0.11.* in /usr/local/lib/python3.7/dist-packages (from httpx==0.15.4->sanic<21.0.0,>=19.12.2->rasa) (0.11.1)\n",
            "Requirement already satisfied: rfc3986[idna2008]<2,>=1.3 in /usr/local/lib/python3.7/dist-packages (from httpx==0.15.4->sanic<21.0.0,>=19.12.2->rasa) (1.4.0)\n",
            "Requirement already satisfied: requests-oauthlib>=0.7.0 in /usr/local/lib/python3.7/dist-packages (from google-auth-oauthlib<0.5,>=0.4.1->tensorboard<3,>=2.3.0->tensorflow<2.4,>=2.3->rasa) (1.3.0)\n",
            "Requirement already satisfied: cachetools<5.0,>=2.0.0 in /usr/local/lib/python3.7/dist-packages (from google-auth<2,>=1.6.3->tensorboard<3,>=2.3.0->tensorflow<2.4,>=2.3->rasa) (4.2.1)\n",
            "Requirement already satisfied: pycparser in /usr/local/lib/python3.7/dist-packages (from cffi>=1.12->cryptography<4.0.0,>=3.3.1; extra == \"crypto\"->PyJWT[crypto]<3.0.0,>=2.0.0->rasa) (2.20)\n",
            "Requirement already satisfied: h11<0.10,>=0.8 in /usr/local/lib/python3.7/dist-packages (from httpcore==0.11.*->httpx==0.15.4->sanic<21.0.0,>=19.12.2->rasa) (0.9.0)\n",
            "Requirement already satisfied: oauthlib>=3.0.0 in /usr/local/lib/python3.7/dist-packages (from requests-oauthlib>=0.7.0->google-auth-oauthlib<0.5,>=0.4.1->tensorboard<3,>=2.3.0->tensorflow<2.4,>=2.3->rasa) (3.1.0)\n",
            "--2021-05-07 09:47:12--  https://github.com/RasaHQ/rasa/archive/refs/heads/main.zip\n",
            "Resolving github.com (github.com)... 192.30.255.113\n",
            "Connecting to github.com (github.com)|192.30.255.113|:443... connected.\n",
            "HTTP request sent, awaiting response... 302 Found\n",
            "Location: https://codeload.github.com/RasaHQ/rasa/zip/refs/heads/main [following]\n",
            "--2021-05-07 09:47:12--  https://codeload.github.com/RasaHQ/rasa/zip/refs/heads/main\n",
            "Resolving codeload.github.com (codeload.github.com)... 192.30.255.121\n",
            "Connecting to codeload.github.com (codeload.github.com)|192.30.255.121|:443... connected.\n",
            "HTTP request sent, awaiting response... 200 OK\n",
            "Length: unspecified [application/zip]\n",
            "Saving to: ‘main.zip.2’\n",
            "\n",
            "main.zip.2              [  <=>               ]   3.54M  10.3MB/s    in 0.3s    \n",
            "\n",
            "2021-05-07 09:47:13 (10.3 MB/s) - ‘main.zip.2’ saved [3707695]\n",
            "\n"
          ],
          "name": "stdout"
        }
      ]
    },
    {
      "cell_type": "code",
      "metadata": {
        "id": "MoZdQ8bD1GPO"
      },
      "source": [
        ""
      ],
      "execution_count": null,
      "outputs": []
    },
    {
      "cell_type": "code",
      "metadata": {
        "colab": {
          "base_uri": "https://localhost:8080/"
        },
        "id": "p71P7O73nvnu",
        "outputId": "4a34b2bb-bed7-45ea-e905-aee2fb7c3de5"
      },
      "source": [
        "!unzip main.zip\n",
        "!mv rasa-main/examples/concertbot/* ./"
      ],
      "execution_count": null,
      "outputs": [
        {
          "output_type": "stream",
          "text": [
            "mv: cannot move 'rasa-main/examples/concertbot/actions' to './actions': Directory not empty\n",
            "mv: cannot move 'rasa-main/examples/concertbot/data' to './data': Directory not empty\n"
          ],
          "name": "stdout"
        }
      ]
    },
    {
      "cell_type": "code",
      "metadata": {
        "id": "CJ_RI-X6oFm4"
      },
      "source": [
        "!rasa train core -d domain.yml -s data/stories.md --out models -c config.yml"
      ],
      "execution_count": null,
      "outputs": []
    },
    {
      "cell_type": "code",
      "metadata": {
        "colab": {
          "base_uri": "https://localhost:8080/"
        },
        "id": "iKriKpuyp6kL",
        "outputId": "2785bda0-5951-48fc-e005-81a28e9bde1a"
      },
      "source": [
        "!rasa visualize"
      ],
      "execution_count": null,
      "outputs": [
        {
          "output_type": "stream",
          "text": [
            "2021-05-07 09:56:21 \u001b[1;30mINFO    \u001b[0m \u001b[34mroot\u001b[0m  - Generating grammar tables from /usr/lib/python3.7/lib2to3/Grammar.txt\n",
            "2021-05-07 09:56:21 \u001b[1;30mINFO    \u001b[0m \u001b[34mroot\u001b[0m  - Generating grammar tables from /usr/lib/python3.7/lib2to3/PatternGrammar.txt\n",
            "\u001b[93m/usr/local/lib/python3.7/dist-packages/rasa/utils/train_utils.py:593: UserWarning: constrain_similarities is set to `False`. It is recommended to set it to `True` when using cross-entropy loss. It will be set to `True` by default, Rasa Open Source 3.0.0 onwards.\n",
            "  category=UserWarning,\n",
            "\u001b[0m\u001b[93m/usr/local/lib/python3.7/dist-packages/rasa/utils/train_utils.py:565: UserWarning: model_confidence is set to `softmax`. It is recommended to try using `model_confidence=linear_norm` to make it easier to tune fallback thresholds.\n",
            "  category=UserWarning,\n",
            "\u001b[0m2021-05-07 09:56:23 \u001b[1;30mINFO    \u001b[0m \u001b[34mrasa.core.visualize\u001b[0m  - Starting to visualize stories...\n",
            "Processed story blocks: 100% 6/6 [00:00<00:00, 2745.56it/s, # trackers=1]\n",
            "Processed rules: 100% 5/5 [00:00<00:00, 3941.27it/s, # trackers=1]\n",
            "2021-05-07 09:56:23 \u001b[1;30mINFO    \u001b[0m \u001b[34mrasa.core.visualize\u001b[0m  - Finished graph creation. Saved into file:///content/graph.html\n"
          ],
          "name": "stdout"
        }
      ]
    },
    {
      "cell_type": "code",
      "metadata": {
        "colab": {
          "base_uri": "https://localhost:8080/"
        },
        "id": "cNqDEb89rBWd",
        "outputId": "e318dc1a-df8e-4dad-92bc-a5f90a19d255"
      },
      "source": [
        "!rasa run actions & rasa shell -m models\n"
      ],
      "execution_count": null,
      "outputs": [
        {
          "output_type": "stream",
          "text": [
            "2021-05-07 07:44:57 \u001b[1;30mINFO    \u001b[0m \u001b[34mrasa.model\u001b[0m  - Loading model models/core-20210507-074410.tar.gz...\n",
            "2021-05-07 07:44:57 \u001b[1;30mINFO    \u001b[0m \u001b[34mrasa_sdk.endpoint\u001b[0m  - Starting action endpoint server...\n",
            "2021-05-07 07:44:57 \u001b[1;30mINFO    \u001b[0m \u001b[34mrasa_sdk.executor\u001b[0m  - Registered function for 'action_search_concerts'.\n",
            "2021-05-07 07:44:57 \u001b[1;30mINFO    \u001b[0m \u001b[34mrasa_sdk.executor\u001b[0m  - Registered function for 'action_search_venues'.\n",
            "2021-05-07 07:44:57 \u001b[1;30mINFO    \u001b[0m \u001b[34mrasa_sdk.executor\u001b[0m  - Registered function for 'action_show_concert_reviews'.\n",
            "2021-05-07 07:44:57 \u001b[1;30mINFO    \u001b[0m \u001b[34mrasa_sdk.executor\u001b[0m  - Registered function for 'action_show_venue_reviews'.\n",
            "2021-05-07 07:44:57 \u001b[1;30mINFO    \u001b[0m \u001b[34mrasa_sdk.executor\u001b[0m  - Registered function for 'action_set_music_preference'.\n",
            "2021-05-07 07:44:57 \u001b[1;30mINFO    \u001b[0m \u001b[34mrasa_sdk.endpoint\u001b[0m  - Action endpoint is up and running on http://0.0.0.0:5055\n",
            "2021-05-07 07:44:58 \u001b[1;30mINFO    \u001b[0m \u001b[34mroot\u001b[0m  - Generating grammar tables from /usr/lib/python3.7/lib2to3/Grammar.txt\n",
            "2021-05-07 07:44:58 \u001b[1;30mINFO    \u001b[0m \u001b[34mroot\u001b[0m  - Generating grammar tables from /usr/lib/python3.7/lib2to3/PatternGrammar.txt\n",
            "2021-05-07 07:45:00 \u001b[1;30mINFO    \u001b[0m \u001b[34mroot\u001b[0m  - Starting Rasa server on http://localhost:5005\n",
            "2021-05-07 07:45:00 \u001b[1;30mINFO    \u001b[0m \u001b[34mrasa.model\u001b[0m  - Loading model models/core-20210507-074410.tar.gz...\n",
            "\u001b[93m/usr/local/lib/python3.7/dist-packages/rasa/utils/train_utils.py:593: UserWarning: constrain_similarities is set to `False`. It is recommended to set it to `True` when using cross-entropy loss. It will be set to `True` by default, Rasa Open Source 3.0.0 onwards.\n",
            "  category=UserWarning,\n",
            "\u001b[0m\u001b[93m/usr/local/lib/python3.7/dist-packages/rasa/utils/train_utils.py:565: UserWarning: model_confidence is set to `softmax`. It is recommended to try using `model_confidence=linear_norm` to make it easier to tune fallback thresholds.\n",
            "  category=UserWarning,\n",
            "\u001b[0m2021-05-07 07:45:16 \u001b[1;30mINFO    \u001b[0m \u001b[34mroot\u001b[0m  - Rasa server is up and running.\n",
            "\u001b[92mBot loaded. Type a message and press enter (use '/stop' to exit): \u001b[0m\n",
            "\u001b[15C\u001b[?7h\u001b[0m\u001b[?12l\u001b[?25h\u001b[15D\u001b[J\u001b[0m\u001b[?7h\u001b[?2004l\u001b[?1lWARNING: your terminal doesn't support cursor position requests (CPR).\n",
            "\u001b[0m\n",
            "\u001b[J\u001b[?7h\u001b[0m\u001b[?12l\u001b[?25h\u001b[?2004l\u001b[93m/usr/local/lib/python3.7/dist-packages/rasa/shared/utils/io.py:97: UserWarning: Interpreter parsed an intent 'hi' which is not defined in the domain. Please make sure all intents are listed in the domain.\n",
            "  More info at https://rasa.com/docs/rasa/domain\n",
            "\u001b[0m\u001b[94mvenues from slots: None\u001b[0m\n",
            "\u001b[15C\u001b[?7h\u001b[0m\u001b[?12l\u001b[?25h\u001b[15D\u001b[J\u001b[0m\u001b[?7h\u001b[?2004l\u001b[?1lWARNING: your terminal doesn't support cursor position requests (CPR).\n",
            "\u001b[0m\n",
            "\u001b[J\u001b[?7h\u001b[0m\u001b[?12l\u001b[?25h\u001b[?2004l\u001b[94mvenues from slots: None\u001b[0m\n",
            "\u001b[15C\u001b[?7h\u001b[0m\u001b[?12l\u001b[?25h\u001b[15D\u001b[J\u001b[0m\u001b[?7h\u001b[?2004l\u001b[?1lWARNING: your terminal doesn't support cursor position requests (CPR).\n",
            "\u001b[15C\u001b[?7h\u001b[0m\u001b[?12l\u001b[?25h"
          ],
          "name": "stdout"
        }
      ]
    }
  ]
}